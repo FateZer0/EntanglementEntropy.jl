{
 "cells": [
  {
   "cell_type": "markdown",
   "metadata": {},
   "source": [
    "# Time evolution of the entanglement entroy of a product state\n",
    "\n",
    "This project is part of the Computational Physics course held at Perimeter, Fall 2018. "
   ]
  },
  {
   "cell_type": "code",
   "execution_count": 14,
   "metadata": {},
   "outputs": [],
   "source": [
    "using LinearAlgebra\n",
    "using Arpack\n",
    "using Plots"
   ]
  },
  {
   "cell_type": "markdown",
   "metadata": {},
   "source": [
    "### Product state"
   ]
  },
  {
   "cell_type": "code",
   "execution_count": 37,
   "metadata": {},
   "outputs": [
    {
     "data": {
      "text/plain": [
       "compute_entropy (generic function with 1 method)"
      ]
     },
     "execution_count": 37,
     "metadata": {},
     "output_type": "execute_result"
    }
   ],
   "source": [
    "function compute_rdmA(PsiAB)\n",
    "    @assert ndims(PsiAB) == 2 # did we input a matrix?\n",
    "    @assert size(PsiAB,1) < 2^13 # make sure the resulting matrix is not too large!\n",
    "    rdm = PsiAB*PsiAB'\n",
    "end\n",
    "\n",
    "function compute_entropy(dm)\n",
    "    p = eigvals(dm) # we diagonalize and use the eigenvalues. the more Julia way\n",
    "    # has a problem when the log is very large\n",
    "    entropy = 0.0\n",
    "    #entropy = - p'*log2.(p) # problems when p[n] is of order 0 (possibly negative)\n",
    "    for n in 1:size(p,1)\n",
    "        if abs(p[n]) > 1e-12\n",
    "            entropy = entropy - p[n]*log2(p[n])\n",
    "        end\n",
    "    end\n",
    "    entropy\n",
    "end"
   ]
  },
  {
   "cell_type": "code",
   "execution_count": 36,
   "metadata": {},
   "outputs": [],
   "source": [
    "N=8 # > 2\n",
    "\n",
    "function normalizeVec(Vec)\n",
    "    Vec = Vec/sqrt(abs(Vec'*Vec)) \n",
    "end\n",
    "\n",
    "PsiInitial= reshape( (randn(2) + im*randn(2))*(randn(2) + im*randn(2))', 2^2 )\n",
    "for i in 3:N\n",
    "PsiInitial = reshape( PsiInitial*(randn(2) + im*randn(2))', 2^i )\n",
    "end\n",
    "\n",
    "PsiInitial = normalizeVec(PsiInitial);"
   ]
  },
  {
   "cell_type": "code",
   "execution_count": 39,
   "metadata": {},
   "outputs": [
    {
     "data": {
      "text/plain": [
       "0.0"
      ]
     },
     "execution_count": 39,
     "metadata": {},
     "output_type": "execute_result"
    }
   ],
   "source": [
    "nA = 5 # number spins/qubits in A\n",
    "nB = 3 # number of spins/qubits in B\n",
    "\n",
    "PsiAB = reshape(PsiInitial, (2^(nA),2^(nB)))\n",
    "\n",
    "rdmA = compute_rdmA(PsiAB)\n",
    "compute_entropy(rdmA)"
   ]
  },
  {
   "cell_type": "markdown",
   "metadata": {},
   "source": [
    "### Time evolution \n",
    "\n",
    "To obtain $|\\Psi(t)\\rangle \\equiv \\exp (-i t H) |\\Psi(0)\\rangle$, we can use\n",
    " $|\\Psi(t+\\delta t)\\rangle = |\\Psi(t)\\rangle - i \\delta t H |\\Psi(t)\\rangle$. We want to keep the accuracy within $10^{-5}$ at each time step."
   ]
  },
  {
   "cell_type": "code",
   "execution_count": null,
   "metadata": {},
   "outputs": [],
   "source": []
  },
  {
   "cell_type": "code",
   "execution_count": null,
   "metadata": {},
   "outputs": [],
   "source": []
  }
 ],
 "metadata": {
  "kernelspec": {
   "display_name": "Julia 1.0.0",
   "language": "julia",
   "name": "julia-1.0"
  },
  "language_info": {
   "file_extension": ".jl",
   "mimetype": "application/julia",
   "name": "julia",
   "version": "1.0.0"
  }
 },
 "nbformat": 4,
 "nbformat_minor": 2
}
